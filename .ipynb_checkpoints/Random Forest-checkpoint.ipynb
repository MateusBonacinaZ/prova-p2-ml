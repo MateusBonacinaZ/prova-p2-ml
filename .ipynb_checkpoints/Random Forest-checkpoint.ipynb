{
 "cells": [
  {
   "cell_type": "markdown",
   "id": "a01fd944-8316-4946-acc0-2b9655958489",
   "metadata": {},
   "source": [
    "# IMPORTAÇÃO DAS BIBLIOTECAS"
   ]
  },
  {
   "cell_type": "code",
   "execution_count": 20,
   "id": "d734233c-7aea-4c78-ac82-53ec90ce3dbe",
   "metadata": {},
   "outputs": [],
   "source": [
    "import pandas as pd\n",
    "import numpy as np\n",
    "from sklearn.model_selection import train_test_split\n",
    "from sklearn.ensemble import RandomForestRegressor\n",
    "from sklearn.metrics import r2_score, mean_squared_error"
   ]
  },
  {
   "cell_type": "markdown",
   "id": "5349948f-a970-4101-9f9c-4db90dcb224d",
   "metadata": {},
   "source": [
    "# PRÉ-PROCESSAMENTO DOS DADOS"
   ]
  },
  {
   "cell_type": "code",
   "execution_count": 4,
   "id": "f3f4f191-af69-42c0-8a82-3e92eca47980",
   "metadata": {},
   "outputs": [],
   "source": [
    "# IMPORTANDO OS DADOS DAS DUAS DISCIPLINAS E JUNTANDO EM UM ÚNICO DATAFRAME\n",
    "student_por = pd.read_csv(\"student-por.csv\", delimiter=';')\n",
    "student_mat = pd.read_csv(\"student-mat.csv\", delimiter=';')\n",
    "\n",
    "data = pd.concat([student_por, student_mat])"
   ]
  },
  {
   "cell_type": "code",
   "execution_count": 5,
   "id": "f28bf7fe-5057-4e40-ba82-dba0a7e348bb",
   "metadata": {},
   "outputs": [
    {
     "name": "stdout",
     "output_type": "stream",
     "text": [
      "NÃO EXISTEM VALORES FALTANTES\n"
     ]
    }
   ],
   "source": [
    "# VERIFICANDO A EXISTÊNCIA DE VALORES FALTANTES\n",
    "missing_values = data.isna().any().any()\n",
    "if missing_values == True:\n",
    "    print(\"EXISTEM VALORES FALTANTES\")\n",
    "else:\n",
    "    print(\"NÃO EXISTEM VALORES FALTANTES\")"
   ]
  },
  {
   "cell_type": "code",
   "execution_count": 6,
   "id": "b4440d53-5d6e-40b2-b7c9-067bd71a35c7",
   "metadata": {},
   "outputs": [],
   "source": [
    "# CONVERTENDO FEATURES CATEGÓRICAS EM NUMÉRICAS\n",
    "for feature in data.loc[:, data.dtypes != 'int64'].columns:\n",
    "    data[feature] = pd.factorize(data[feature])[0]"
   ]
  },
  {
   "cell_type": "code",
   "execution_count": 37,
   "id": "5f59e46c-feef-49fe-a9a4-2a9ac3b4b2da",
   "metadata": {},
   "outputs": [],
   "source": [
    "# SELECIONANDO AS FEATURES E TARGET\n",
    "x = data.iloc[:, :-1]\n",
    "y = data.iloc[:, -1]"
   ]
  },
  {
   "cell_type": "code",
   "execution_count": 8,
   "id": "dda46030-c00a-4feb-9458-64a2650de931",
   "metadata": {},
   "outputs": [],
   "source": [
    "# SEPARANDO O CONJUNTO DE DADOS EM TREINAMENTO E TESTE\n",
    "x_train, x_test, y_train, y_test = train_test_split(x, y, test_size=0.3)"
   ]
  },
  {
   "cell_type": "markdown",
   "id": "b98fdf61-6c62-4472-955f-641cafd364e1",
   "metadata": {},
   "source": [
    "# APLICAÇÃO DOS MODELOS"
   ]
  },
  {
   "cell_type": "code",
   "execution_count": 39,
   "id": "a89daaa6-eebe-4245-98d7-50884de8354e",
   "metadata": {},
   "outputs": [
    {
     "name": "stdout",
     "output_type": "stream",
     "text": [
      "Modelo 1: \n",
      "R²: 0.8078688309786205\n",
      "MSE: 2.7467477004363943\n",
      "RMSE: 1.657331499862473\n",
      "\n",
      "\n",
      "Modelo 2: \n",
      "R²: 0.7343234618760106\n",
      "MSE: 3.2141321449211877\n",
      "RMSE: 1.79280008504049\n"
     ]
    }
   ],
   "source": [
    "# DEFINIÇÃO E APLICAÇÃO DOS MODELOS\n",
    "model1 = RandomForestRegressor(n_estimators=10000, max_depth=None, random_state=0)\n",
    "model2 = RandomForestRegressor(n_estimators=100, max_depth=2, random_state=0)\n",
    "\n",
    "model1.fit(x_train, y_train)\n",
    "model2.fit(x_train, y_train)\n",
    "\n",
    "y_pred1 = model1.predict(x_test)\n",
    "y_pred2 = model2.predict(x_test)\n",
    "\n",
    "print(\"Modelo 1: \")\n",
    "print(f\"R²: {r2_score(y_pred1, y_test)}\")\n",
    "print(f\"MSE: {mean_squared_error(y_pred1, y_test, squared=True)}\")\n",
    "print(f\"RMSE: {mean_squared_error(y_pred1, y_test, squared=False)}\")\n",
    "\n",
    "print(\"\\n\\nModelo 2: \")\n",
    "print(f\"R²: {r2_score(y_pred2, y_test)}\")\n",
    "print(f\"MSE: {mean_squared_error(y_pred2, y_test, squared=True)}\")\n",
    "print(f\"RMSE: {mean_squared_error(y_pred2, y_test, squared=False)}\")"
   ]
  }
 ],
 "metadata": {
  "kernelspec": {
   "display_name": "Python 3 (ipykernel)",
   "language": "python",
   "name": "python3"
  },
  "language_info": {
   "codemirror_mode": {
    "name": "ipython",
    "version": 3
   },
   "file_extension": ".py",
   "mimetype": "text/x-python",
   "name": "python",
   "nbconvert_exporter": "python",
   "pygments_lexer": "ipython3",
   "version": "3.11.2"
  }
 },
 "nbformat": 4,
 "nbformat_minor": 5
}
